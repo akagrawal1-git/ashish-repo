{
 "cells": [
  {
   "cell_type": "code",
   "execution_count": 10,
   "metadata": {},
   "outputs": [
    {
     "name": "stdout",
     "output_type": "stream",
     "text": [
      "*\n",
      "**\n",
      "***\n",
      "****\n",
      "*****\n",
      "****\n",
      "***\n",
      "**\n",
      "*\n"
     ]
    }
   ],
   "source": [
    "#*\n",
    "#* *\n",
    "#* * *\n",
    "#* * * *\n",
    "#* * * * *\n",
    "#* * * *\n",
    "#* * *\n",
    "#* *\n",
    "#*\n",
    "for i in range(1,6):\n",
    "    print(\"*\"*i)\n",
    "    if i == 5:\n",
    "        for j in range(4,0,-1):\n",
    "            print(\"*\"*j)\n"
   ]
  },
  {
   "cell_type": "code",
   "execution_count": 21,
   "metadata": {},
   "outputs": [
    {
     "name": "stdout",
     "output_type": "stream",
     "text": [
      "lawargA ramuK hsihsA\n",
      "Ashish Kumar Agrawal\n"
     ]
    }
   ],
   "source": [
    "string = input()\n",
    "newString = [None for _ in string]\n",
    "count = 1\n",
    "for i in string:\n",
    "    newString[len(string)-count]=i\n",
    "    count = count+1\n",
    "\n",
    "reverse = \"\".join(newString)\n",
    "print(reverse)\n",
    "    "
   ]
  }
 ],
 "metadata": {
  "kernelspec": {
   "display_name": "Python 3",
   "language": "python",
   "name": "python3"
  },
  "language_info": {
   "codemirror_mode": {
    "name": "ipython",
    "version": 3
   },
   "file_extension": ".py",
   "mimetype": "text/x-python",
   "name": "python",
   "nbconvert_exporter": "python",
   "pygments_lexer": "ipython3",
   "version": "3.7.6"
  }
 },
 "nbformat": 4,
 "nbformat_minor": 4
}
