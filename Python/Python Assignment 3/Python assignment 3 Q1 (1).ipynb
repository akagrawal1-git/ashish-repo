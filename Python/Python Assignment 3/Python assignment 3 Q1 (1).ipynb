{
 "cells": [
  {
   "cell_type": "code",
   "execution_count": 40,
   "metadata": {},
   "outputs": [],
   "source": [
    "from functools import reduce\n",
    "def myreduce(fun, seq):\n",
    "    result = 0\n",
    "    i=0\n",
    "    for value in seq:\n",
    "        if i==0:\n",
    "            i=i+1\n",
    "            result = value\n",
    "            continue\n",
    "        result = fun(result,value)\n",
    "    return result"
   ]
  },
  {
   "cell_type": "code",
   "execution_count": 43,
   "metadata": {},
   "outputs": [
    {
     "data": {
      "text/plain": [
       "True"
      ]
     },
     "execution_count": 43,
     "metadata": {},
     "output_type": "execute_result"
    }
   ],
   "source": [
    "lst = [1,2,3,4,5,6,7,8]\n",
    "func = lambda a,b : a+b\n",
    "myreduce(func, lst) == reduce(func, lst)"
   ]
  },
  {
   "cell_type": "code",
   "execution_count": 54,
   "metadata": {},
   "outputs": [],
   "source": [
    "#from functools import filter\n",
    "def myfilter(fun, seq):\n",
    "    # apply the function on each value\n",
    "    outlst=[]\n",
    "    for value in seq:\n",
    "        result = fun(value)\n",
    "        if result==True:\n",
    "            outlst.append(value)\n",
    "    return iter(outlst)        \n",
    "\n",
    "    \n"
   ]
  },
  {
   "cell_type": "code",
   "execution_count": 57,
   "metadata": {},
   "outputs": [
    {
     "data": {
      "text/plain": [
       "[2, 4, 6, 8]"
      ]
     },
     "execution_count": 57,
     "metadata": {},
     "output_type": "execute_result"
    }
   ],
   "source": [
    "lst = [1,2,3,4,5,6,7,8]\n",
    "func = lambda a:a%2==0\n",
    "list(myfilter(func,lst))\n"
   ]
  },
  {
   "cell_type": "code",
   "execution_count": null,
   "metadata": {},
   "outputs": [],
   "source": []
  }
 ],
 "metadata": {
  "kernelspec": {
   "display_name": "Python 3",
   "language": "python",
   "name": "python3"
  },
  "language_info": {
   "codemirror_mode": {
    "name": "ipython",
    "version": 3
   },
   "file_extension": ".py",
   "mimetype": "text/x-python",
   "name": "python",
   "nbconvert_exporter": "python",
   "pygments_lexer": "ipython3",
   "version": "3.7.6"
  }
 },
 "nbformat": 4,
 "nbformat_minor": 4
}
