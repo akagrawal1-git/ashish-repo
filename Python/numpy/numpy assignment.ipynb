{
 "cells": [
  {
   "cell_type": "code",
   "execution_count": 1,
   "metadata": {},
   "outputs": [],
   "source": [
    "import numpy as np\n"
   ]
  },
  {
   "cell_type": "code",
   "execution_count": 74,
   "metadata": {},
   "outputs": [],
   "source": [
    "def Vendor(vec,inc,N):\n",
    "    #transpose the Vecor to get columns from rows\n",
    "    transposed = np.reshape(vec,(3,1))\n",
    "    # add the fist column as ones\n",
    "    frst = np.ones((len(vec),1))\n",
    "    if inc is True:\n",
    "        newvec = np.append(frst, transposed, axis=1)\n",
    "    else:\n",
    "        newvec = np.append(transposed, frst, axis=1)\n",
    "       \n",
    "    # iterate from 2,N-1\n",
    "    for i in range(2,N):\n",
    "        if inc is True:\n",
    "            newvec = np.append(newvec, transposed**i, axis=1)\n",
    "        else:\n",
    "            newvec = np.append(transposed**i, newvec,  axis=1)\n",
    "\n",
    "    return np.ndarray.astype(newvec, dtype = int)"
   ]
  },
  {
   "cell_type": "code",
   "execution_count": 77,
   "metadata": {},
   "outputs": [
    {
     "data": {
      "text/plain": [
       "array([[ True,  True,  True,  True,  True,  True],\n",
       "       [ True,  True,  True,  True,  True,  True],\n",
       "       [ True,  True,  True,  True,  True,  True]])"
      ]
     },
     "execution_count": 77,
     "metadata": {},
     "output_type": "execute_result"
    }
   ],
   "source": [
    "inp = np.array([1, 2, 3])\n",
    "inp = inp.astype(int, copy=False)\n",
    "\n",
    "output = [[1,1,1],[2,4,8],[3,9,27]]\n",
    "\n",
    "Vendor(inp,False,6) == np.vander(inp, N=6, increasing=False)\n"
   ]
  },
  {
   "cell_type": "code",
   "execution_count": 90,
   "metadata": {},
   "outputs": [],
   "source": [
    "def mAv(inp,win):\n",
    "    avg = np.array([])\n",
    "    #iterate over elements\n",
    "    for i in range(0,(len(inp)-win+1)):\n",
    "        currSum = 0\n",
    "        for j in range(i,i+win):\n",
    "            currSum = currSum + inp[j]\n",
    "        currAvg = (currSum)/win\n",
    "        avg = np.append(avg, currAvg)\n",
    "    return avg   \n",
    "    #keep calulating the average\n",
    "    # add the average to vecrot"
   ]
  },
  {
   "cell_type": "code",
   "execution_count": 91,
   "metadata": {},
   "outputs": [
    {
     "data": {
      "text/plain": [
       "array([25., 35., 45., 55., 65., 75., 85.])"
      ]
     },
     "execution_count": 91,
     "metadata": {},
     "output_type": "execute_result"
    }
   ],
   "source": [
    "inp = np.asarray([10, 20, 30, 40, 50, 60, 70, 80, 90, 100])\n",
    "mAv(inp,4)"
   ]
  }
 ],
 "metadata": {
  "kernelspec": {
   "display_name": "Python 3",
   "language": "python",
   "name": "python3"
  },
  "language_info": {
   "codemirror_mode": {
    "name": "ipython",
    "version": 3
   },
   "file_extension": ".py",
   "mimetype": "text/x-python",
   "name": "python",
   "nbconvert_exporter": "python",
   "pygments_lexer": "ipython3",
   "version": "3.7.6"
  }
 },
 "nbformat": 4,
 "nbformat_minor": 4
}
