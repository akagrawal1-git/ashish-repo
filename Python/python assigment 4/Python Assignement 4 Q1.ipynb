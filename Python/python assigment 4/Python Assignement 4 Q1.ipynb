{
 "cells": [
  {
   "cell_type": "code",
   "execution_count": 15,
   "metadata": {},
   "outputs": [],
   "source": [
    "# area = (s*(s-a)*(s-b)*(s-c)) ** 0.5\n",
    "class Triangle():\n",
    "    def __init__(self, side1, side2, side3):\n",
    "        self.side1=side1\n",
    "        self.side2=side2\n",
    "        self.side3=side3"
   ]
  },
  {
   "cell_type": "code",
   "execution_count": 18,
   "metadata": {},
   "outputs": [],
   "source": [
    "class TriangleArea(Triangle):\n",
    "    def __init__(self, side1, side2, side3):\n",
    "        Triangle.__init__(self, side1, side2, side3)\n",
    "        \n",
    "    def area(self):\n",
    "        sumOfSides = (self.side1 + self.side2 + self.side3)/2\n",
    "        area = (sumOfSides*(sumOfSides-self.side1)*(sumOfSides-self.side2)*(sumOfSides-self.side3))**0.5\n",
    "        return area"
   ]
  },
  {
   "cell_type": "code",
   "execution_count": 19,
   "metadata": {},
   "outputs": [
    {
     "name": "stdout",
     "output_type": "stream",
     "text": [
      "1.984313483298443\n"
     ]
    }
   ],
   "source": [
    "triangle = TriangleArea(2,2,3)\n",
    "area = triangle.area()\n",
    "print(area)"
   ]
  }
 ],
 "metadata": {
  "kernelspec": {
   "display_name": "Python 3",
   "language": "python",
   "name": "python3"
  },
  "language_info": {
   "codemirror_mode": {
    "name": "ipython",
    "version": 3
   },
   "file_extension": ".py",
   "mimetype": "text/x-python",
   "name": "python",
   "nbconvert_exporter": "python",
   "pygments_lexer": "ipython3",
   "version": "3.7.6"
  }
 },
 "nbformat": 4,
 "nbformat_minor": 4
}
